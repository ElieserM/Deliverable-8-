{
  "nbformat": 4,
  "nbformat_minor": 0,
  "metadata": {
    "colab": {
      "provenance": []
    },
    "kernelspec": {
      "name": "python3",
      "display_name": "Python 3"
    },
    "language_info": {
      "name": "python"
    }
  },
  "cells": [
    {
      "cell_type": "code",
      "execution_count": 2,
      "metadata": {
        "id": "WwsCRki0YXm-"
      },
      "outputs": [],
      "source": [
        "import numpy as np\n"
      ]
    },
    {
      "cell_type": "code",
      "source": [
        "np.random.randint(5,15, size = 5)"
      ],
      "metadata": {
        "colab": {
          "base_uri": "https://localhost:8080/"
        },
        "id": "p1hbCcNKbL13",
        "outputId": "56056eba-40db-4ad8-ef97-2e85123c24e7"
      },
      "execution_count": 3,
      "outputs": [
        {
          "output_type": "execute_result",
          "data": {
            "text/plain": [
              "array([10, 11, 13,  7,  6])"
            ]
          },
          "metadata": {},
          "execution_count": 3
        }
      ]
    },
    {
      "cell_type": "code",
      "source": [
        "def user_list(size):\n",
        "  list = []\n",
        "  for i in range (size):\n",
        "    list.append(np.random.randint(5,15))\n",
        "  return list\n",
        "\n",
        "  def sum_random (list):\n",
        "    sum = 0\n",
        "    for i in range(len(list)):\n",
        "      sum = sum + list[i]\n",
        "    return sum\n"
      ],
      "metadata": {
        "id": "0KlmR3KL8ljh"
      },
      "execution_count": 4,
      "outputs": []
    },
    {
      "cell_type": "code",
      "source": [
        "n = int(input(\"Enter an integer number between 5 and 15 : \"))\n",
        "\n",
        "if n<5 or n>15:\n",
        "  print(\"Try again.\")\n",
        "  \n"
      ],
      "metadata": {
        "colab": {
          "base_uri": "https://localhost:8080/"
        },
        "id": "JoQaOqEd_DdP",
        "outputId": "b2396013-a66f-4f3a-9c32-19eb6518e1af"
      },
      "execution_count": 21,
      "outputs": [
        {
          "name": "stdout",
          "output_type": "stream",
          "text": [
            "Enter an integer number between 5 and 15 : 7\n"
          ]
        }
      ]
    },
    {
      "cell_type": "code",
      "source": [
        "MyList = user_list(n)\n",
        "MyList\n",
        "\n",
        "if n>5 and n<15:\n",
        "  print(\"The elements of the array are:\", MyList)"
      ],
      "metadata": {
        "colab": {
          "base_uri": "https://localhost:8080/"
        },
        "id": "4PZvLJWZ_p6m",
        "outputId": "62a49a4b-0127-419c-a94b-200b5ee153e5"
      },
      "execution_count": 22,
      "outputs": [
        {
          "output_type": "stream",
          "name": "stdout",
          "text": [
            "The elements of the array are: [9, 5, 10, 6, 12, 5, 7]\n"
          ]
        }
      ]
    },
    {
      "cell_type": "code",
      "source": [
        "MySum = sum(MyList)\n",
        "MySum\n",
        "\n",
        "if n>5 and n<15:\n",
        "  print(\"The sum is:\", MySum)"
      ],
      "metadata": {
        "colab": {
          "base_uri": "https://localhost:8080/"
        },
        "id": "jErqIpzD_1qo",
        "outputId": "8b03018b-634a-4687-f867-0b142cd99538"
      },
      "execution_count": 23,
      "outputs": [
        {
          "output_type": "stream",
          "name": "stdout",
          "text": [
            "The sum is: 54\n"
          ]
        }
      ]
    },
    {
      "cell_type": "code",
      "source": [],
      "metadata": {
        "id": "T76sdQteBcGE"
      },
      "execution_count": null,
      "outputs": []
    }
  ]
}